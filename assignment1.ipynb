{
 "cells": [
  {
   "cell_type": "code",
   "execution_count": 10,
   "id": "92207928-cba1-4f05-8285-8257416b3ce4",
   "metadata": {},
   "outputs": [],
   "source": [
    "my_list=[1,2,12,1,2]\n",
    "def remove(new_list):\n",
    "    new_list=[]\n",
    "    for i in my_list:\n",
    "        if i not in new_list:\n",
    "            new_list.append(i)\n",
    "    print(my_list)\n",
    "    print(new_list)\n"
   ]
  },
  {
   "cell_type": "code",
   "execution_count": 11,
   "id": "5dc0cbee-5b4d-4dee-b871-0f4c04fa26d6",
   "metadata": {},
   "outputs": [
    {
     "name": "stdout",
     "output_type": "stream",
     "text": [
      "[1, 2, 12, 1, 2]\n",
      "[1, 2, 12]\n"
     ]
    }
   ],
   "source": [
    "remove(my_list)"
   ]
  },
  {
   "cell_type": "code",
   "execution_count": null,
   "id": "789d130d-6a18-42fd-bd69-eaf9cf5cdcb2",
   "metadata": {},
   "outputs": [],
   "source": []
  },
  {
   "cell_type": "code",
   "execution_count": null,
   "id": "db1843ad-9b2d-417b-8c3c-5d4a7cae4d8b",
   "metadata": {},
   "outputs": [],
   "source": []
  }
 ],
 "metadata": {
  "kernelspec": {
   "display_name": "Python 3 (ipykernel)",
   "language": "python",
   "name": "python3"
  },
  "language_info": {
   "codemirror_mode": {
    "name": "ipython",
    "version": 3
   },
   "file_extension": ".py",
   "mimetype": "text/x-python",
   "name": "python",
   "nbconvert_exporter": "python",
   "pygments_lexer": "ipython3",
   "version": "3.9.19"
  }
 },
 "nbformat": 4,
 "nbformat_minor": 5
}
